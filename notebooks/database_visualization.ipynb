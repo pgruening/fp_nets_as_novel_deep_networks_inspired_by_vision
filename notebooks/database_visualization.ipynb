{
 "cells": [
  {
   "cell_type": "code",
   "execution_count": null,
   "id": "impaired-combat",
   "metadata": {},
   "outputs": [],
   "source": [
    "import os\n",
    "os.chdir('..')\n",
    "import model_database_api as api\n",
    "print(os.getcwd())\n",
    "\n",
    "import matplotlib.pyplot as plt\n",
    "\n",
    "from DLBio.helpers import to_uint8_image\n",
    "import numpy as np\n",
    "# annoying plt warnings\n",
    "import warnings\n",
    "warnings.filterwarnings('ignore')"
   ]
  },
  {
   "cell_type": "code",
   "execution_count": null,
   "id": "joined-adventure",
   "metadata": {},
   "outputs": [],
   "source": [
    "#model_folder_name = 'CifarJOVFPNet_N9_s744'\n",
    "#IS_CIFAR = True\n",
    "\n",
    "model_folder_name = 'resnet50_imagenet_layer_start_q1'\n",
    "IS_CIFAR = False\n",
    "\n",
    "df = api.get_dataframe(model_folder_name)\n"
   ]
  },
  {
   "cell_type": "markdown",
   "id": "supreme-enclosure",
   "metadata": {},
   "source": [
    "## Do the low-entropy maps look plausible?"
   ]
  },
  {
   "cell_type": "code",
   "execution_count": null,
   "id": "meaning-arthritis",
   "metadata": {},
   "outputs": [],
   "source": [
    "def compute_entropy(image):\n",
    "    if image.dtype != 'uint8':\n",
    "        image = to_uint8_image(image)\n",
    "    \n",
    "    counts, _ = np.histogram(image.flatten(), bins=list(range(256)))\n",
    "    dist = counts / counts.sum()\n",
    "    return -1.* (dist * np.log2(dist + 1e-6)).sum()\n",
    "    "
   ]
  },
  {
   "cell_type": "code",
   "execution_count": null,
   "id": "suitable-possession",
   "metadata": {
    "scrolled": false
   },
   "outputs": [],
   "source": [
    "if True:\n",
    "    X = api.get_activation_examples_input(IS_CIFAR)\n",
    "    operation = 'res'\n",
    "    tmp = api.get_subtable(df, {'position':0})\n",
    "    tmp = tmp[tmp['ent_per_fmap-'+operation] > 0.2]\n",
    "    tmp = tmp.sort_values('ent_per_fmap-'+operation, ascending=True)\n",
    "\n",
    "    ctr = 0\n",
    "\n",
    "    for _, row in tmp.iterrows():\n",
    "        act = api.get_activations(row, operation)\n",
    "        for i in [0, 1,2,3,4]:\n",
    "            ent = compute_entropy(act[i,...])\n",
    "            _, ax = plt.subplots(1,2)\n",
    "            ax[0].imshow(to_uint8_image(act[i,...]))\n",
    "            ax[1].imshow(to_uint8_image(X[i,...]))\n",
    "            ax[0].set_title(\n",
    "                ['stat: ', round(row['ent_per_fmap-'+operation],2),\n",
    "                'here: ', round(ent,2)]\n",
    "            )\n",
    "            ax[1].set_title(round(row['kd_angles'],2))\n",
    "\n",
    "            ctr += 1\n",
    "\n",
    "        if ctr > 30:\n",
    "            break"
   ]
  },
  {
   "cell_type": "markdown",
   "id": "annual-workshop",
   "metadata": {},
   "source": [
    "## Do the degofes maps look plausible?"
   ]
  },
  {
   "cell_type": "code",
   "execution_count": null,
   "id": "placed-repository",
   "metadata": {
    "scrolled": false
   },
   "outputs": [],
   "source": [
    "if True:\n",
    "    X = api.get_degree_of_es_input(+1,IS_CIFAR)\n",
    "    operation = 'mult'\n",
    "    tmp = api.get_subtable(df, {'position':0})\n",
    "    tmp = api.get_degree_of_es_analysis(tmp, ['mult'])\n",
    "    #tmp = tmp[tmp[operation+'-id2_pos'] > .1]\n",
    "    #tmp = tmp[tmp[operation+'-id1_pos'] < 1.]\n",
    "    #tmp = tmp.sort_values(operation+'-id2_pos', ascending=False)\n",
    "\n",
    "    ctr = 0\n",
    "\n",
    "    for _, row in tmp.iterrows():\n",
    "        act = api.get_deg_of_es_activation(row, operation)\n",
    "        _, ax = plt.subplots(1,2)\n",
    "        ax[0].imshow(to_uint8_image(act[0,...]))\n",
    "        ax[1].imshow(to_uint8_image(X))\n",
    "        ax[0].set_title(round(row[operation+'-id_ratio'],2))\n",
    "        ax[1].set_title(round(row['kd_angles'],2))\n",
    "\n",
    "        ctr += 1\n",
    "\n",
    "        if ctr > 30:\n",
    "            break"
   ]
  }
 ],
 "metadata": {
  "kernelspec": {
   "display_name": "PyT1.6",
   "language": "python",
   "name": "pyt1.6"
  },
  "language_info": {
   "codemirror_mode": {
    "name": "ipython",
    "version": 3
   },
   "file_extension": ".py",
   "mimetype": "text/x-python",
   "name": "python",
   "nbconvert_exporter": "python",
   "pygments_lexer": "ipython3",
   "version": "3.6.9"
  }
 },
 "nbformat": 4,
 "nbformat_minor": 5
}
